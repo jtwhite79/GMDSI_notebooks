{
 "cells": [
  {
   "cell_type": "code",
   "execution_count": null,
   "id": "22e03317-7871-4b2e-8c92-92be03516f94",
   "metadata": {},
   "outputs": [],
   "source": [
    "import os\n",
    "import matplotlib.pyplot as plt\n",
    "import numpy as np"
   ]
  },
  {
   "cell_type": "markdown",
   "id": "839c4a9b-1e21-456e-91b2-5cc3d69eaf58",
   "metadata": {},
   "source": [
    "# OPT flips the script on UA and provides an answer the question of, our forecasts are uncertain, what now? "
   ]
  },
  {
   "cell_type": "markdown",
   "id": "7791d9de-5e8b-4496-ab45-204da24103ea",
   "metadata": {},
   "source": [
    "### for example, if our concern with UA was quantifying uncertainty in stream low flows given uncertainty in our model inputs (including pumping), we can flip that with OPT to say, what is the maximum amount we can pump such that we don't draw down stream low flows beneath some threshold? "
   ]
  },
  {
   "cell_type": "markdown",
   "id": "00638ba9-5afd-4002-a864-3d9f4a039bdd",
   "metadata": {},
   "source": [
    "# OPT terminology \n",
    "- __parameter__: an uncertain model input whose value we want to estimate and whose uncertainty we want to propagate to important model outputs.\n",
    "- __decision variable__: a model input whose value can be \"controlled\" by human activity.  For example, groundwater extraction rates or surface-water structure operations.  Like a parameter, a decision variable also influences important model outputs.\n",
    "- __constraint__: an uncertain model output whose real-world equivalent value has a range of \"undesired values\".  In management optimization, \"constraints\" are typically \"inequality\" constraints, meaning the constraint can take any value other than the undesired values.  Think \"surface-water/groundwater exchange flux must be greater than XXX to support ecological flows\".\n",
    "- __objective function__: a (potentially nonlinear) function of the decision variables that is to be maximized or minimized, depending on the problem.  For example, in the case of groundwater extraction, the objective is to maximize the volume of groundwater extracted (subject to not violating the constraints)."
   ]
  },
  {
   "cell_type": "code",
   "execution_count": null,
   "id": "78dcb694-c99c-40b8-8a33-2ab02be666a3",
   "metadata": {},
   "outputs": [],
   "source": [
    "# simple linear programming example (from https://realpython.com/linear-programming-python/) \n",
    "from scipy.optimize import linprog\n",
    "\n",
    "#one objective, two DVs, 5 constraints"
   ]
  },
  {
   "cell_type": "markdown",
   "id": "f3446444-8eff-4369-9fb3-d1848bd9422a",
   "metadata": {},
   "source": [
    "![lp](./lp-py-eq-2.png)"
   ]
  },
  {
   "cell_type": "code",
   "execution_count": null,
   "id": "37bf08dd-2d13-43d4-83f0-3cc0504b112f",
   "metadata": {},
   "outputs": [],
   "source": [
    "x = np.linspace(0,1000)\n",
    "y = 20 - 2*x\n",
    "plt.fill_between(x, y,1000, color='red', alpha=0.3)\n",
    "\n",
    "x = np.linspace(0,1000)\n",
    "y = (10 + 4*x)/5\n",
    "plt.fill_between(x, y,1000, color='blue', alpha=0.3)\n",
    "\n",
    "x = np.linspace(0,1000)\n",
    "y = (-2 + x)/2\n",
    "plt.fill_between(x, y, color='yellow', alpha=0.3)\n",
    "\n",
    "plt.xlim(0,10)\n",
    "plt.ylim(0,10)"
   ]
  },
  {
   "cell_type": "code",
   "execution_count": null,
   "id": "9d9a2926-ccad-4693-9ba9-bd81ca8dff9d",
   "metadata": {},
   "outputs": [],
   "source": [
    "# unbounded example\n",
    "obj = [-1, -2]\n",
    "#      ─┬  ─┬\n",
    "#       │   └┤ Coefficient for y\n",
    "#       └────┤ Coefficient for x\n",
    "\n",
    "lhs_ineq = [[ 2,  1],  # Red constraint left side\n",
    "             [-4,  5],  # Blue constraint left side\n",
    "             [ 1, -2]]  # Yellow constraint left side\n",
    "\n",
    "rhs_ineq = [20,  # Red constraint right side\n",
    "            10,  # Blue constraint right side\n",
    "            2]  # Yellow constraint right side"
   ]
  },
  {
   "cell_type": "code",
   "execution_count": null,
   "id": "07fb4d5c-3862-4c95-b606-d2688336f521",
   "metadata": {},
   "outputs": [],
   "source": [
    "bnd = [(0, float(\"inf\")),  # Bounds of x\n",
    "        (0, float(\"inf\"))]  # Bounds of y"
   ]
  },
  {
   "cell_type": "code",
   "execution_count": null,
   "id": "b9f85bc6-e3ab-42ee-af10-2a738f7cfd65",
   "metadata": {},
   "outputs": [],
   "source": [
    "opt = linprog(c=obj, A_ub=lhs_ineq, b_ub=rhs_ineq,\n",
    "               bounds=bnd, method=\"simplex\")"
   ]
  },
  {
   "cell_type": "code",
   "execution_count": null,
   "id": "9ea58f74-fd83-4723-9031-dc8c45f26261",
   "metadata": {},
   "outputs": [],
   "source": [
    "opt.fun #objective function value (if found)"
   ]
  },
  {
   "cell_type": "code",
   "execution_count": null,
   "id": "34b68641-3fb1-4738-88cf-10877379e4a5",
   "metadata": {},
   "outputs": [],
   "source": [
    "opt.success #boolean for if optimal solution has been found"
   ]
  },
  {
   "cell_type": "code",
   "execution_count": null,
   "id": "49838fb5-caa7-4ddc-8c0d-d66b4d7014ee",
   "metadata": {},
   "outputs": [],
   "source": [
    "opt.x #optimal decision variables"
   ]
  },
  {
   "cell_type": "code",
   "execution_count": null,
   "id": "2b9eb306-c08b-4276-8661-f0d2a2128091",
   "metadata": {},
   "outputs": [],
   "source": [
    "x = np.linspace(0,1000)\n",
    "y = 20 - 2*x\n",
    "plt.fill_between(x, y,1000, color='red', alpha=0.3)\n",
    "\n",
    "x = np.linspace(0,1000)\n",
    "y = (10 + 4*x)/5\n",
    "plt.fill_between(x, y,1000, color='blue', alpha=0.3)\n",
    "\n",
    "x = np.linspace(0,1000)\n",
    "y = (-2 + x)/2\n",
    "plt.fill_between(x, y, color='yellow', alpha=0.3)\n",
    "\n",
    "plt.xlim(0,10)\n",
    "plt.ylim(0,10)\n",
    "\n",
    "plt.scatter(opt.x[0],opt.x[1],c='black')"
   ]
  },
  {
   "cell_type": "markdown",
   "id": "76034b1d-4a82-49a7-9a65-c3c510c8e47c",
   "metadata": {},
   "source": [
    "## what abound a bounded case?"
   ]
  },
  {
   "cell_type": "code",
   "execution_count": null,
   "id": "0ebb6101-b218-4e92-ba1c-e068d07b01be",
   "metadata": {},
   "outputs": [],
   "source": [
    "bnd = [(0, 5),  # Bounds of decision variable x\n",
    "        (0, 6)]  # Bounds of decision variable y"
   ]
  },
  {
   "cell_type": "code",
   "execution_count": null,
   "id": "81fba466-8ae5-4dc5-adc5-e219016e02a2",
   "metadata": {},
   "outputs": [],
   "source": [
    "opt = linprog(c=obj, A_ub=lhs_ineq, b_ub=rhs_ineq,\n",
    "               bounds=bnd, method=\"simplex\")"
   ]
  },
  {
   "cell_type": "code",
   "execution_count": null,
   "id": "034d6592-d81d-4ae7-a5eb-d8e53c50d403",
   "metadata": {},
   "outputs": [],
   "source": [
    "opt.fun #objective function value (if found)"
   ]
  },
  {
   "cell_type": "code",
   "execution_count": null,
   "id": "dd3c2236-9083-435c-ae18-f5026e730534",
   "metadata": {},
   "outputs": [],
   "source": [
    "opt.success #boolean for if optimal solution has been found"
   ]
  },
  {
   "cell_type": "code",
   "execution_count": null,
   "id": "39585169-d326-4fac-b3c7-4e40cd81f897",
   "metadata": {},
   "outputs": [],
   "source": [
    "opt.x #optimal decision variables"
   ]
  },
  {
   "cell_type": "code",
   "execution_count": null,
   "id": "8224d54e-d360-4e28-887b-a424011b6651",
   "metadata": {},
   "outputs": [],
   "source": [
    "x = np.linspace(0,1000)\n",
    "y = 20 - 2*x\n",
    "plt.fill_between(x, y,1000, color='red', alpha=0.3)\n",
    "\n",
    "x = np.linspace(0,1000)\n",
    "y = (10 + 4*x)/5\n",
    "plt.fill_between(x, y,1000, color='blue', alpha=0.3)\n",
    "\n",
    "x = np.linspace(0,1000)\n",
    "y = (-2 + x)/2\n",
    "plt.fill_between(x, y, color='yellow', alpha=0.3)\n",
    "\n",
    "plt.xlim(0,10)\n",
    "plt.ylim(0,10)\n",
    "\n",
    "plt.axvline(bnd[0][1],ls='--',c='black')\n",
    "plt.axhline(bnd[1][1],ls='--',c='black')\n",
    "\n",
    "plt.scatter(opt.x[0],opt.x[1],c='black')"
   ]
  },
  {
   "cell_type": "code",
   "execution_count": null,
   "id": "17aba069-a9b5-45aa-beb8-1b4a976b2109",
   "metadata": {},
   "outputs": [],
   "source": [
    "bnd = [(0, 3),  # Bounds of decision variable x\n",
    "        (0, 4)]  # Bounds of decision variable y"
   ]
  },
  {
   "cell_type": "code",
   "execution_count": null,
   "id": "e929da44-57bd-4430-8757-a4d0ca1c4de9",
   "metadata": {},
   "outputs": [],
   "source": [
    "opt = linprog(c=obj, A_ub=lhs_ineq, b_ub=rhs_ineq,\n",
    "               bounds=bnd, method=\"simplex\")"
   ]
  },
  {
   "cell_type": "code",
   "execution_count": null,
   "id": "06d00c7d-1a1f-4bb1-98d5-6c66b0c353fd",
   "metadata": {},
   "outputs": [],
   "source": [
    "x = np.linspace(0,1000)\n",
    "y = 20 - 2*x\n",
    "plt.fill_between(x, y,1000, color='red', alpha=0.3)\n",
    "\n",
    "x = np.linspace(0,1000)\n",
    "y = (10 + 4*x)/5\n",
    "plt.fill_between(x, y,1000, color='blue', alpha=0.3)\n",
    "\n",
    "x = np.linspace(0,1000)\n",
    "y = (-2 + x)/2\n",
    "plt.fill_between(x, y, color='yellow', alpha=0.3)\n",
    "\n",
    "plt.xlim(0,10)\n",
    "plt.ylim(0,10)\n",
    "\n",
    "plt.axvline(bnd[0][1],ls='--',c='black')\n",
    "plt.axhline(bnd[1][1],ls='--',c='black')\n",
    "\n",
    "plt.scatter(opt.x[0],opt.x[1],c='black')"
   ]
  },
  {
   "cell_type": "markdown",
   "id": "9c035705-8ae4-447c-ba63-db4048c13a24",
   "metadata": {},
   "source": [
    "### hitting constraint or decision variable bounds is now a necessity of the simplex, which is different from UA where we might be concerned if our parameters are always hitting bounds.\n",
    "\n",
    "### this means that we want to put bounds on our decision variables based on reality.\n",
    "\n",
    "### for example, for maximizing pumping subject to constraint of not capturing too much streamflow, we still want to set bounds on our pumping wells based on actual pump capacity and yield. "
   ]
  },
  {
   "cell_type": "markdown",
   "id": "a186414f-8bb5-492e-9cb1-79f10342943f",
   "metadata": {},
   "source": [
    "## but what about uncertainty??? for example, how can we estimate that maximum amount of pumping such that we don't draw stream low flows below a threshold, given uncertainty in our parameters and constraints, or in other words with a reliability of 95% ?"
   ]
  }
 ],
 "metadata": {
  "language_info": {
   "name": "python"
  }
 },
 "nbformat": 4,
 "nbformat_minor": 5
}
