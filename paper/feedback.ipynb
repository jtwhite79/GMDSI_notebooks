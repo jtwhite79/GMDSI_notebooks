{
 "cells": [
  {
   "cell_type": "code",
   "execution_count": null,
   "id": "5703f4ff-6396-4fb1-9829-e51a2766dd06",
   "metadata": {
    "vscode": {
     "languageId": "shellscript"
    }
   },
   "outputs": [],
   "source": [
    "import pandas as pd\n",
    "import matplotlib.pyplot as plt\n",
    "from flopy.plot import styles as fps\n",
    "import numpy as np"
   ]
  },
  {
   "cell_type": "code",
   "execution_count": null,
   "id": "c0e988c1-4a19-4b54-b5b3-e03b7bc66f78",
   "metadata": {
    "vscode": {
     "languageId": "shellscript"
    }
   },
   "outputs": [],
   "source": [
    "df = pd.read_csv('./Feedback on Decision Support Modelling with Python Self-Guided Course (Responses) - Form Responses 1.csv')"
   ]
  },
  {
   "cell_type": "code",
   "execution_count": null,
   "id": "dbaa4a4f-6ae6-401a-b47c-cb31f08cbbf7",
   "metadata": {
    "vscode": {
     "languageId": "shellscript"
    }
   },
   "outputs": [],
   "source": [
    "df.groupby('After this experience, would you prefer:').count()"
   ]
  },
  {
   "cell_type": "code",
   "execution_count": null,
   "id": "01a90494-ce3f-42ec-a718-0775aa8b736e",
   "metadata": {
    "vscode": {
     "languageId": "shellscript"
    }
   },
   "outputs": [],
   "source": [
    "with fps.USGSPlot():\n",
    "    df.groupby('How much were you able to keep up with the self-study notebooks?').count().rename(\n",
    "    columns = {'Timestamp':'notebook_completion'}\n",
    "    )['notebook_completion'].plot.pie()"
   ]
  },
  {
   "cell_type": "code",
   "execution_count": null,
   "id": "2c4ebf09-afa2-4b9e-800c-49a84c62668c",
   "metadata": {
    "vscode": {
     "languageId": "shellscript"
    }
   },
   "outputs": [],
   "source": [
    "inperson = df.groupby('After this experience, would you prefer:').count().rename(\n",
    "    columns = {'Timestamp':'inperson'}\n",
    "    )['inperson']/len(df)*100"
   ]
  },
  {
   "cell_type": "code",
   "execution_count": null,
   "id": "118877b1-54e6-43c7-b109-d34dabe1ef36",
   "metadata": {},
   "outputs": [],
   "source": [
    "inperson"
   ]
  },
  {
   "cell_type": "code",
   "execution_count": null,
   "id": "86de39a1-cc9e-49db-ad0c-366e9bca21d2",
   "metadata": {
    "vscode": {
     "languageId": "shellscript"
    }
   },
   "outputs": [],
   "source": [
    "inperson.index = [\n",
    "    '\\n\\n\\nIn-person intensive\\nworkshop\\n(~40 hours)',\n",
    "    'The \"self-guided\"\\napproach',\n",
    "    'This hybrid self-guided\\napproach with\\nfew online meetings\\n(as experienced now)'\n",
    "]"
   ]
  },
  {
   "cell_type": "code",
   "execution_count": null,
   "id": "c042f73c-ac28-4d83-93e1-47b386b3c891",
   "metadata": {
    "vscode": {
     "languageId": "shellscript"
    }
   },
   "outputs": [],
   "source": [
    "nbs = df.groupby('How much were you able to keep up with the self-study notebooks?').count().rename(\n",
    "    columns = {'Timestamp':'notebook_completion'}\n",
    "    )['notebook_completion']/len(df)*100"
   ]
  },
  {
   "cell_type": "code",
   "execution_count": null,
   "id": "69a9087d-5a1a-4cda-88cf-06c7f67c8cd4",
   "metadata": {
    "vscode": {
     "languageId": "shellscript"
    }
   },
   "outputs": [],
   "source": [
    "nbs.index = ['I did a bit\\nbut fell behind', 'I did most\\nof them', 'I did\\nthem all']"
   ]
  },
  {
   "cell_type": "code",
   "execution_count": null,
   "id": "93aa43bb-6099-4de0-9dac-9cfb61c4123d",
   "metadata": {
    "vscode": {
     "languageId": "shellscript"
    }
   },
   "outputs": [],
   "source": [
    "df.columns"
   ]
  },
  {
   "cell_type": "code",
   "execution_count": null,
   "id": "0540c6fa-4136-4d85-83d1-d9b69ebce124",
   "metadata": {
    "vscode": {
     "languageId": "shellscript"
    }
   },
   "outputs": [],
   "source": [
    "before = df.groupby('How comfortable were you with PEST++ before this class'\n",
    "          ).count()['Timestamp'].values\n",
    "after = np.zeros(5)\n",
    "after[1:-1] = df.groupby('How comfortable are you with PEST++ after this class'\n",
    "          ).count()['Timestamp'].values"
   ]
  },
  {
   "cell_type": "code",
   "execution_count": null,
   "id": "cd8af304-cbdd-4005-a0e8-d22da34c3edb",
   "metadata": {
    "vscode": {
     "languageId": "shellscript"
    }
   },
   "outputs": [],
   "source": [
    "b4_aft_raw = pd.DataFrame(data={'Comfort Before Class':before,\n",
    "                           'Comfort After Class':after})"
   ]
  },
  {
   "cell_type": "code",
   "execution_count": null,
   "id": "f17488c0-0f5c-4495-8661-332479880e66",
   "metadata": {
    "vscode": {
     "languageId": "shellscript"
    }
   },
   "outputs": [],
   "source": [
    "before = df.groupby('How comfortable were you with PEST++ before this class'\n",
    "          ).count()['Timestamp'].values/len(df)*100\n",
    "after = np.zeros(5)\n",
    "after[1:-1] = df.groupby('How comfortable are you with PEST++ after this class'\n",
    "          ).count()['Timestamp'].values/len(df)*100"
   ]
  },
  {
   "cell_type": "code",
   "execution_count": null,
   "id": "c6b4f980-aac9-47ea-aadf-9dce27a1d258",
   "metadata": {
    "vscode": {
     "languageId": "shellscript"
    }
   },
   "outputs": [],
   "source": [
    "b4_aft = pd.DataFrame(data={'Comfort Before Class':before,\n",
    "                           'Comfort After Class':after})\n",
    "b4_aft.index = [i+1 for i in b4_aft.index]"
   ]
  },
  {
   "cell_type": "code",
   "execution_count": null,
   "id": "72a5a043-3026-4aaa-8dde-458dedfaebb0",
   "metadata": {
    "vscode": {
     "languageId": "shellscript"
    }
   },
   "outputs": [],
   "source": [
    "df.groupby('How much were you able to keep up with the self-study notebooks?').count().rename(\n",
    "    columns = {'Timestamp':'notebook_completion'}\n",
    "    )['notebook_completion']"
   ]
  },
  {
   "cell_type": "code",
   "execution_count": null,
   "id": "56a71aef-fa44-4296-aa92-76082d986d8b",
   "metadata": {
    "vscode": {
     "languageId": "shellscript"
    }
   },
   "outputs": [],
   "source": [
    "b4_aft.sum()"
   ]
  },
  {
   "cell_type": "code",
   "execution_count": null,
   "id": "c39c0e72-2813-4657-902a-7eb4b79944e4",
   "metadata": {
    "vscode": {
     "languageId": "shellscript"
    }
   },
   "outputs": [],
   "source": [
    "b4_aft_raw.sum()"
   ]
  },
  {
   "cell_type": "code",
   "execution_count": null,
   "id": "666a240c-ff6a-45de-afb7-25d7180f0d74",
   "metadata": {
    "vscode": {
     "languageId": "shellscript"
    }
   },
   "outputs": [],
   "source": [
    "df['comfort_delta'] = (df['How comfortable were you with PEST++ before this class'] - \n",
    "                           df['How comfortable are you with PEST++ after this class'])"
   ]
  },
  {
   "cell_type": "code",
   "execution_count": null,
   "id": "7f2cfff5-ef52-44fc-ad26-83d2d543a86e",
   "metadata": {
    "vscode": {
     "languageId": "shellscript"
    }
   },
   "outputs": [],
   "source": [
    "df"
   ]
  },
  {
   "cell_type": "code",
   "execution_count": null,
   "id": "c8e27494-0440-45eb-86b9-fa05bd7de925",
   "metadata": {
    "vscode": {
     "languageId": "shellscript"
    }
   },
   "outputs": [],
   "source": [
    "betwor = df.groupby('comfort_delta').count()['Timestamp']\n",
    "betwor/=len(df)\n",
    "betwor*=100\n",
    "betwor.index = ['much\\nless','less','same','more','much\\nmore']"
   ]
  },
  {
   "cell_type": "code",
   "execution_count": null,
   "id": "12a8bb77-fb0b-4f2c-96d5-7086acc5b591",
   "metadata": {
    "vscode": {
     "languageId": "shellscript"
    }
   },
   "outputs": [],
   "source": [
    "with fps.USGSPlot():\n",
    "    \n",
    "    plt.pie(betwor,\n",
    "           labels=betwor.values)\n",
    "plt.show()"
   ]
  },
  {
   "cell_type": "code",
   "execution_count": null,
   "id": "dff975a1-6ff1-40c9-ac17-caa5cf0a8734",
   "metadata": {
    "vscode": {
     "languageId": "shellscript"
    }
   },
   "outputs": [],
   "source": [
    "n=len(df)\n",
    "with fps.USGSPlot():\n",
    "    fig, ax = plt.subplot_mosaic(\n",
    "        '''\n",
    "        .A.B\n",
    "        CCCC\n",
    "        D...\n",
    "        '''\n",
    "        , figsize=(6,6))\n",
    "    ax['B'].pie(nbs ,labels=[f'{i}: {j:.0f}%' for i,j in zip(nbs.index,nbs.values)])\n",
    "    fps.heading(letter='B',x=-.5,ax=ax['B'], heading=f'How much were you \\nable to keep up\\nwith the self-study notebooks? (n={n})')\n",
    "\n",
    "    ax['A'].pie(inperson ,labels=[f'{i}: {j:.0f}%' for i,j in zip(inperson.index,inperson.values)])\n",
    "    fps.heading(letter='A',x=-1.1,ax=ax['A'], heading=f'After this experience,\\nwould you prefer: (n={n})\\n')\n",
    "\n",
    "    b4_aft.plot.bar(ax=ax['C'])\n",
    "    fps.heading(letter='C',ax=ax['C'], \n",
    "                heading=f'How comfortable with PEST++ before/after this class? (n={n})')\n",
    "    ax['C'].set_ylim([0,60])\n",
    "    ax['C'].set_yticklabels([f'{i._text}%' for i in ax['C'].get_yticklabels()])\n",
    "    ax['C'].set_ylabel('Percent of Responses')\n",
    "    ax['C'].set_xlabel('Comfort Level (1 is highest, 5 is lowest)')\n",
    "    # ax[1].grid()\n",
    "    fps.heading(letter='D',ax=ax['D'], \n",
    "                heading=f'Change in comfort level with PEST++ before/after this class? (n={n})')\n",
    "    ax['D'].pie(betwor,\n",
    "           labels=[f'{i}: {j:.0f}%' for i,j in zip(betwor.index,betwor.values)])\n",
    "    plt.savefig('responses.png',dpi=450, bbox_inches='tight')\n",
    "plt.show()"
   ]
  },
  {
   "cell_type": "code",
   "execution_count": null,
   "id": "d03539ae-1814-4b12-bb1e-47d258f81bb3",
   "metadata": {
    "vscode": {
     "languageId": "shellscript"
    }
   },
   "outputs": [],
   "source": [
    "betwor"
   ]
  },
  {
   "cell_type": "code",
   "execution_count": null,
   "id": "7192daa9-e396-444e-ae6e-ffbbde7ef0ed",
   "metadata": {
    "vscode": {
     "languageId": "shellscript"
    }
   },
   "outputs": [],
   "source": [
    "[print(i) for i in df.dropna(subset='Please provide feedback that we can use to improve the GMDSI educational experience including the materials and the format and execution of this 5-week experience.')[\n",
    "'Please provide feedback that we can use to improve the GMDSI educational experience including the materials and the format and execution of this 5-week experience.'\n",
    "]]"
   ]
  },
  {
   "cell_type": "code",
   "execution_count": null,
   "id": "3ef5d114-0a20-4e8d-a971-8f39441ad908",
   "metadata": {
    "vscode": {
     "languageId": "shellscript"
    }
   },
   "outputs": [],
   "source": []
  }
 ],
 "metadata": {
  "kernelspec": {
   "display_name": "Python 3 (ipykernel)",
   "language": "python",
   "name": "python3"
  },
  "language_info": {
   "codemirror_mode": {
    "name": "ipython",
    "version": 3
   },
   "file_extension": ".py",
   "mimetype": "text/x-python",
   "name": "python",
   "nbconvert_exporter": "python",
   "pygments_lexer": "ipython3",
   "version": "3.10.12"
  }
 },
 "nbformat": 4,
 "nbformat_minor": 5
}
